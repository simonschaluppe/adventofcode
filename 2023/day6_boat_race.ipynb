{
 "cells": [
  {
   "cell_type": "code",
   "execution_count": 35,
   "metadata": {},
   "outputs": [
    {
     "data": {
      "text/plain": [
       "([7, 15, 30], [9, 40, 200])"
      ]
     },
     "execution_count": 35,
     "metadata": {},
     "output_type": "execute_result"
    }
   ],
   "source": [
    "import re\n",
    "times = [int(x) for x in re.findall(\"\\d+\",\"Time:      7  15   30\")]\n",
    "records = [int(x) for x in re.findall(\"\\d+\",\"Distance:  9  40  200\")]\n",
    "\n",
    "times, records   "
   ]
  },
  {
   "cell_type": "code",
   "execution_count": 36,
   "metadata": {},
   "outputs": [
    {
     "name": "stdout",
     "output_type": "stream",
     "text": [
      "Time:  7, Record:    9,   4 Ways to win: [(2, 10), (3, 12), (4, 12), (5, 10)]\n",
      "Time: 15, Record:   40,   8 Ways to win: [(4, 44), (5, 50), (6, 54), (7, 56), (8, 56), (9, 54), (10, 50), (11, 44)]\n",
      "Time: 30, Record:  200,   9 Ways to win: [(11, 209), (12, 216), (13, 221), (14, 224), (15, 225), (16, 224), (17, 221), (18, 216), (19, 209)]\n"
     ]
    },
    {
     "data": {
      "text/plain": [
       "288"
      ]
     },
     "execution_count": 36,
     "metadata": {},
     "output_type": "execute_result"
    }
   ],
   "source": [
    "from operator import mul\n",
    "\n",
    "def distance(total_time, chargetime):\n",
    "    return (total_time-chargetime)*chargetime\n",
    "def distances(time):\n",
    "    d = []\n",
    "    for charge_time in range(time):\n",
    "        d.append((charge_time, distance(time, charge_time)))\n",
    "    return d\n",
    "def get_winways(times, records):\n",
    "    winway_multiplier = 1\n",
    "    for time, record in zip(times, records):\n",
    "        winways = [(t,d) for t,d in distances(time) if d > record]\n",
    "        winway_multiplier *= len(winways)\n",
    "        print(f\"Time: {time:2}, Record: {record:4}, {len(winways):3} Ways to win: {winways}\")\n",
    "    return winway_multiplier\n",
    "\n",
    "get_winways(times, records)   # 3368589680800000000  (output)\n"
   ]
  },
  {
   "cell_type": "code",
   "execution_count": 37,
   "metadata": {},
   "outputs": [
    {
     "name": "stdout",
     "output_type": "stream",
     "text": [
      "Time: 40, Record:  233,  25 Ways to win: [(8, 256), (9, 279), (10, 300), (11, 319), (12, 336), (13, 351), (14, 364), (15, 375), (16, 384), (17, 391), (18, 396), (19, 399), (20, 400), (21, 399), (22, 396), (23, 391), (24, 384), (25, 375), (26, 364), (27, 351), (28, 336), (29, 319), (30, 300), (31, 279), (32, 256)]\n",
      "Time: 82, Record: 1011,  51 Ways to win: [(16, 1056), (17, 1105), (18, 1152), (19, 1197), (20, 1240), (21, 1281), (22, 1320), (23, 1357), (24, 1392), (25, 1425), (26, 1456), (27, 1485), (28, 1512), (29, 1537), (30, 1560), (31, 1581), (32, 1600), (33, 1617), (34, 1632), (35, 1645), (36, 1656), (37, 1665), (38, 1672), (39, 1677), (40, 1680), (41, 1681), (42, 1680), (43, 1677), (44, 1672), (45, 1665), (46, 1656), (47, 1645), (48, 1632), (49, 1617), (50, 1600), (51, 1581), (52, 1560), (53, 1537), (54, 1512), (55, 1485), (56, 1456), (57, 1425), (58, 1392), (59, 1357), (60, 1320), (61, 1281), (62, 1240), (63, 1197), (64, 1152), (65, 1105), (66, 1056)]\n",
      "Time: 84, Record: 1110,  51 Ways to win: [(17, 1139), (18, 1188), (19, 1235), (20, 1280), (21, 1323), (22, 1364), (23, 1403), (24, 1440), (25, 1475), (26, 1508), (27, 1539), (28, 1568), (29, 1595), (30, 1620), (31, 1643), (32, 1664), (33, 1683), (34, 1700), (35, 1715), (36, 1728), (37, 1739), (38, 1748), (39, 1755), (40, 1760), (41, 1763), (42, 1764), (43, 1763), (44, 1760), (45, 1755), (46, 1748), (47, 1739), (48, 1728), (49, 1715), (50, 1700), (51, 1683), (52, 1664), (53, 1643), (54, 1620), (55, 1595), (56, 1568), (57, 1539), (58, 1508), (59, 1475), (60, 1440), (61, 1403), (62, 1364), (63, 1323), (64, 1280), (65, 1235), (66, 1188), (67, 1139)]\n",
      "Time: 92, Record: 1487,  51 Ways to win: [(21, 1491), (22, 1540), (23, 1587), (24, 1632), (25, 1675), (26, 1716), (27, 1755), (28, 1792), (29, 1827), (30, 1860), (31, 1891), (32, 1920), (33, 1947), (34, 1972), (35, 1995), (36, 2016), (37, 2035), (38, 2052), (39, 2067), (40, 2080), (41, 2091), (42, 2100), (43, 2107), (44, 2112), (45, 2115), (46, 2116), (47, 2115), (48, 2112), (49, 2107), (50, 2100), (51, 2091), (52, 2080), (53, 2067), (54, 2052), (55, 2035), (56, 2016), (57, 1995), (58, 1972), (59, 1947), (60, 1920), (61, 1891), (62, 1860), (63, 1827), (64, 1792), (65, 1755), (66, 1716), (67, 1675), (68, 1632), (69, 1587), (70, 1540), (71, 1491)]\n"
     ]
    },
    {
     "data": {
      "text/plain": [
       "3316275"
      ]
     },
     "execution_count": 37,
     "metadata": {},
     "output_type": "execute_result"
    }
   ],
   "source": [
    "times = [int(x) for x in re.findall(\"\\d+\",\"Time:        40     82     84     92\")]\n",
    "records = [int(x) for x in re.findall(\"\\d+\",\"Distance:   233   1011   1110   1487\")]\n",
    "get_winways(times, records)"
   ]
  },
  {
   "cell_type": "code",
   "execution_count": null,
   "metadata": {},
   "outputs": [
    {
     "data": {
      "text/plain": [
       "(6862851, 233101133302491)"
      ]
     },
     "execution_count": 50,
     "metadata": {},
     "output_type": "execute_result"
    }
   ],
   "source": [
    "time = 40828492\n",
    "record = 233101111101487\n",
    "\n",
    "\n",
    "\n"
   ]
  },
  {
   "cell_type": "markdown",
   "metadata": {},
   "source": [
    "took me a while to realize, but tatsächlch einfach simpleste mathe aufgabe:\n",
    "ein parabelwurf.... nulldurchgang... quadratische formel\n",
    "```\n",
    "tt ... total time\n",
    "r  ... record\n",
    "x  ... charging time\n",
    "f(x)... distance greater than record\n",
    "f(x) = (tt - x)*x - r\n",
    "f(x) = - x**2 + tt*x  - r = 0\n",
    "p = -tt/2\n",
    "q = r\n",
    "```\n"
   ]
  },
  {
   "cell_type": "code",
   "execution_count": 69,
   "metadata": {},
   "outputs": [
    {
     "name": "stdout",
     "output_type": "stream",
     "text": [
      "33965641 22201004\n",
      "6862850 22201004\n"
     ]
    },
    {
     "data": {
      "text/plain": [
       "27102791"
      ]
     },
     "execution_count": 69,
     "metadata": {},
     "output_type": "execute_result"
    }
   ],
   "source": [
    "from math import sqrt\n",
    "x1 = int(time/2 + sqrt((time/2)**2-record))\n",
    "x2 = int(time/2 - sqrt((time/2)**2-record))\n",
    "print(x1, distance(time, x1)- record)\n",
    "print(x2, distance(time, x2+1)- record)\n",
    "x1-x2"
   ]
  },
  {
   "cell_type": "code",
   "execution_count": null,
   "metadata": {},
   "outputs": [],
   "source": []
  }
 ],
 "metadata": {
  "kernelspec": {
   "display_name": "base",
   "language": "python",
   "name": "python3"
  },
  "language_info": {
   "codemirror_mode": {
    "name": "ipython",
    "version": 3
   },
   "file_extension": ".py",
   "mimetype": "text/x-python",
   "name": "python",
   "nbconvert_exporter": "python",
   "pygments_lexer": "ipython3",
   "version": "3.11.4"
  }
 },
 "nbformat": 4,
 "nbformat_minor": 2
}
