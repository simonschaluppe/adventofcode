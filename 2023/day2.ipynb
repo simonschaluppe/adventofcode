{
 "cells": [
  {
   "cell_type": "markdown",
   "metadata": {},
   "source": [
    "https://adventofcode.com/2023/day/2\n"
   ]
  },
  {
   "cell_type": "code",
   "execution_count": 23,
   "metadata": {},
   "outputs": [
    {
     "data": {
      "text/plain": [
       "[(5, 0, 7), (10, 0, 7), (15, 4, 5), (6, 4, 7), (4, 5, 8), (5, 3, 4)]"
      ]
     },
     "execution_count": 23,
     "metadata": {},
     "output_type": "execute_result"
    }
   ],
   "source": [
    "d = {\"red\":0,\"green\":1,\"blue\":2}\n",
    "def normalize(reveal):\n",
    "    rgb = [0,0,0]\n",
    "    for cubes in reveal:\n",
    "        num, color = cubes.strip().split(\" \")\n",
    "        rgb[d[color.strip()]] = int(num.strip())\n",
    "    return tuple(rgb)\n",
    "        \n",
    "\n",
    "with open(\"i2.txt\") as f:\n",
    "    reveals = []\n",
    "    for rawline in f.readlines():\n",
    "        raw_reveals = rawline.strip().split(\":\")[1]\n",
    "        reveals.append([normalize(reveal.strip().split(\",\")) for reveal in raw_reveals.split(\";\")])\n",
    "        \n",
    "reveals[0]"
   ]
  },
  {
   "cell_type": "code",
   "execution_count": null,
   "metadata": {},
   "outputs": [
    {
     "data": {
      "text/plain": [
       "2528"
      ]
     },
     "execution_count": 30,
     "metadata": {},
     "output_type": "execute_result"
    }
   ],
   "source": [
    "s = 0\n",
    "def possible(game):\n",
    "    for r,g,b in game:\n",
    "        if any([r>12,g>13,b>14]): #game impossible\n",
    "            return False\n",
    "    return True\n",
    "\n",
    "\n",
    "for i, game in enumerate(reveals):\n",
    "    if possible(game):\n",
    "        s += i+1\n",
    "    \n",
    "s"
   ]
  },
  {
   "cell_type": "code",
   "execution_count": 31,
   "metadata": {},
   "outputs": [
    {
     "data": {
      "text/plain": [
       "67363"
      ]
     },
     "execution_count": 31,
     "metadata": {},
     "output_type": "execute_result"
    }
   ],
   "source": [
    "#part 2\n",
    "\n",
    "def power(game):\n",
    "    rmin,gmin,bmin = 0,0,0\n",
    "    for r,g,b in game:\n",
    "        rmin, gmin, bmin = max(r,rmin), max(g, gmin), max(b, bmin)\n",
    "    return rmin*gmin*bmin\n",
    "\n",
    "s=0\n",
    "for i, game in enumerate(reveals):\n",
    "    s += power(game)\n",
    "s"
   ]
  }
 ],
 "metadata": {
  "kernelspec": {
   "display_name": "base",
   "language": "python",
   "name": "python3"
  },
  "language_info": {
   "codemirror_mode": {
    "name": "ipython",
    "version": 3
   },
   "file_extension": ".py",
   "mimetype": "text/x-python",
   "name": "python",
   "nbconvert_exporter": "python",
   "pygments_lexer": "ipython3",
   "version": "3.11.4"
  }
 },
 "nbformat": 4,
 "nbformat_minor": 2
}
