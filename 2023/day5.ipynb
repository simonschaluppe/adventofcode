{
 "cells": [
  {
   "cell_type": "code",
   "execution_count": 105,
   "metadata": {},
   "outputs": [
    {
     "data": {
      "text/plain": [
       "([79, 14, 55, 13],\n",
       " {'seed-to-soil': [[50, 98, 2], [52, 50, 48]],\n",
       "  'soil-to-fertilizer': [[0, 15, 37], [37, 52, 2], [39, 0, 15]],\n",
       "  'fertilizer-to-water': [[49, 53, 8], [0, 11, 42], [42, 0, 7], [57, 7, 4]],\n",
       "  'water-to-light': [[88, 18, 7], [18, 25, 70]],\n",
       "  'light-to-temperature': [[45, 77, 23], [81, 45, 19], [68, 64, 13]],\n",
       "  'temperature-to-humidity': [[0, 69, 1], [1, 0, 69]],\n",
       "  'humidity-to-location': [[60, 56, 37], [56, 93, 4]]})"
      ]
     },
     "execution_count": 105,
     "metadata": {},
     "output_type": "execute_result"
    }
   ],
   "source": [
    "almanac = \"\"\"seeds: 79 14 55 13\n",
    "\n",
    "seed-to-soil map:\n",
    "50 98 2\n",
    "52 50 48\n",
    "\n",
    "soil-to-fertilizer map:\n",
    "0 15 37\n",
    "37 52 2\n",
    "39 0 15\n",
    "\n",
    "fertilizer-to-water map:\n",
    "49 53 8\n",
    "0 11 42\n",
    "42 0 7\n",
    "57 7 4\n",
    "\n",
    "water-to-light map:\n",
    "88 18 7\n",
    "18 25 70\n",
    "\n",
    "light-to-temperature map:\n",
    "45 77 23\n",
    "81 45 19\n",
    "68 64 13\n",
    "\n",
    "temperature-to-humidity map:\n",
    "0 69 1\n",
    "1 0 69\n",
    "\n",
    "humidity-to-location map:\n",
    "60 56 37\n",
    "56 93 4\"\"\"\n",
    "\n",
    "\n",
    "\n",
    "def parse_almanac(almanac):\n",
    "    mappings = dict()\n",
    "    for block in almanac.split('\\n\\n'):\n",
    "        if \"seeds:\" in block:\n",
    "            seeds = [int(x) for x in block.split(': ')[1].split()]\n",
    "            continue\n",
    "        lines = block.split('\\n')\n",
    "        mappings[lines[0][:-5]] = [[int(n) for n in l.split(\" \")] for l in lines[1:]]\n",
    "        \n",
    "    return seeds, mappings\n",
    "\n",
    "seeds, mappings = parse_almanac(almanac)\n",
    "seeds, mappings"
   ]
  },
  {
   "cell_type": "code",
   "execution_count": 106,
   "metadata": {},
   "outputs": [
    {
     "name": "stdout",
     "output_type": "stream",
     "text": [
      "82\n"
     ]
    }
   ],
   "source": [
    "def create_mapper(mapping):\n",
    "    def mapper(x):\n",
    "        for d,s,l in mapping:\n",
    "            if  s <= x < s+l:\n",
    "                return x + d - s\n",
    "        return x \n",
    "    return mapper\n",
    "\n",
    "\n",
    "seed_mappers = [create_mapper(mapping) for mapping in mappings.values()]\n",
    "\n",
    "seed = 79\n",
    "for mapper in seed_mappers:\n",
    "    seed = mapper(seed)\n",
    "    \n",
    "print(seed)"
   ]
  },
  {
   "cell_type": "code",
   "execution_count": 107,
   "metadata": {},
   "outputs": [
    {
     "data": {
      "text/plain": [
       "[82, 43, 86, 35]"
      ]
     },
     "execution_count": 107,
     "metadata": {},
     "output_type": "execute_result"
    }
   ],
   "source": [
    "def get_locations(seeds, mappings):\n",
    "    mappers = [create_mapper(mapping) for mapping in mappings.values()]\n",
    "    for mapper in mappers:\n",
    "        seeds = list(map(mapper, seeds))\n",
    "    return seeds\n",
    "\n",
    "locations = get_locations(seeds, mappings)\n",
    "locations\n"
   ]
  },
  {
   "cell_type": "code",
   "execution_count": 108,
   "metadata": {},
   "outputs": [
    {
     "data": {
      "text/plain": [
       "46"
      ]
     },
     "execution_count": 108,
     "metadata": {},
     "output_type": "execute_result"
    }
   ],
   "source": [
    "def create_reverse(mapping):\n",
    "    def mapper(y):\n",
    "        for d,s,l in mapping:\n",
    "            if d <= y < d+l:\n",
    "                return y - d + s\n",
    "        return y \n",
    "    return mapper\n",
    "\n",
    "mappers = [create_reverse(mapping) for mapping in mappings.values()]\n",
    "def get_seed(location):\n",
    "    for mapper in reversed(mappers):\n",
    "        location = mapper(location)\n",
    "    return location\n",
    "\n",
    "def check_if_in_range(seed):\n",
    "    for start, l in zip(seeds[::2],seeds[1::2]):\n",
    "        if start <= seed < start+l:\n",
    "            return True\n",
    "    return False\n",
    "\n",
    "def find_smallest():\n",
    "    location = 0\n",
    "    while True:\n",
    "        seed = get_seed(location)\n",
    "        if check_if_in_range(seed):\n",
    "            return location\n",
    "        location += 1\n",
    "find_smallest()"
   ]
  },
  {
   "cell_type": "code",
   "execution_count": 109,
   "metadata": {},
   "outputs": [
    {
     "data": {
      "text/plain": [
       "510109797"
      ]
     },
     "execution_count": 109,
     "metadata": {},
     "output_type": "execute_result"
    }
   ],
   "source": [
    "with open(\"i5\") as f:\n",
    "    almanac = f.read()\n",
    "    \n",
    "seeds, mappings = parse_almanac(almanac)\n",
    "locations = get_locations(*parse_almanac(almanac))\n",
    "min(locations)"
   ]
  },
  {
   "cell_type": "code",
   "execution_count": 127,
   "metadata": {},
   "outputs": [],
   "source": [
    "def create_reverse(mapping):\n",
    "    def mapper(y):\n",
    "        for d,s,l in mapping:\n",
    "            if d <= y < d+l:\n",
    "                return y - d + s\n",
    "        return y \n",
    "    return mapper\n",
    "\n",
    "mappers = [create_reverse(mapping) for mapping in mappings.values()]\n",
    "def get_seed(location):\n",
    "    for mapper in reversed(mappers):\n",
    "        location = mapper(location)\n",
    "    return location\n",
    "\n",
    "def check_if_in_range(seed):\n",
    "    for start, l in zip(seeds[::2],seeds[1::2]):\n",
    "        if start <= seed < start+l:\n",
    "            return True\n",
    "    return False\n",
    "\n",
    "def is_valid_location(location):\n",
    "    return check_if_in_range(get_seed(location))\n",
    "\n"
   ]
  },
  {
   "cell_type": "code",
   "execution_count": null,
   "metadata": {},
   "outputs": [
    {
     "data": {
      "text/plain": [
       "[(367508399, 14),\n",
       " (367508399, 16),\n",
       " (740912129, 8),\n",
       " (740912129, 14),\n",
       " (1068860974, 8),\n",
       " (1525482420, 1),\n",
       " (1525482420, 5),\n",
       " (2327084890, 3),\n",
       " (2327084890, 11),\n",
       " (2422798960, 9),\n",
       " (2422798960, 11),\n",
       " (3854006626, 2),\n",
       " (3854006626, 4),\n",
       " (4029880359, 0),\n",
       " (4029880359, 12)]"
      ]
     },
     "execution_count": 130,
     "metadata": {},
     "output_type": "execute_result"
    }
   ],
   "source": [
    "\n",
    "location_ranges = mappings[\"humidity-to-location\"]\n",
    "ranges = [[s,s+l] for s,_,l in location_ranges]\n",
    "ranges\n",
    "seed_ranges = []\n",
    "for i, (s,e) in enumerate(ranges):\n",
    "    if is_valid_location(s):\n",
    "        seed_ranges.append((s,i))\n",
    "    if is_valid_location(e):\n",
    "        seed_ranges.append((e,i))\n",
    "\n",
    "sorted(seed_ranges) # to find the closest bin"
   ]
  },
  {
   "cell_type": "markdown",
   "metadata": {},
   "source": [
    "must be in between here in the last chuck"
   ]
  },
  {
   "cell_type": "code",
   "execution_count": 129,
   "metadata": {},
   "outputs": [
    {
     "data": {
      "text/plain": [
       "(False, True)"
      ]
     },
     "execution_count": 129,
     "metadata": {},
     "output_type": "execute_result"
    }
   ],
   "source": [
    "is_valid_location(0) , check_if_in_range(get_seed(367508399))"
   ]
  },
  {
   "cell_type": "code",
   "execution_count": 155,
   "metadata": {},
   "outputs": [
    {
     "name": "stdout",
     "output_type": "stream",
     "text": [
      "0 367508399 183754199\n",
      "0 183754199 91877099\n",
      "0 91877099 45938549\n",
      "0 45938549 22969274\n",
      "0 22969274 11484637\n",
      "0 11484637 5742318\n",
      "5742318 11484637 8613477\n",
      "8613477 11484637 10049057\n",
      "8613477 10049057 9331267\n",
      "9331267 10049057 9690162\n",
      "9331267 9690162 9510714\n",
      "9510714 9690162 9600438\n",
      "9600438 9690162 9645300\n",
      "9600438 9645300 9622869\n",
      "9600438 9622869 9611653\n",
      "9611653 9622869 9617261\n",
      "9617261 9622869 9620065\n",
      "9620065 9622869 9621467\n",
      "9621467 9622869 9622168\n",
      "9622168 9622869 9622518\n",
      "9622518 9622869 9622693\n",
      "9622518 9622693 9622605\n",
      "9622605 9622693 9622649\n",
      "9622605 9622649 9622627\n",
      "9622605 9622627 9622616\n",
      "9622616 9622627 9622621\n",
      "9622621 9622627 9622624\n",
      "9622621 9622624 9622622\n",
      "9622621 9622622 9622621\n",
      "exiting 9622622\n",
      "9622621 is valid? False\n",
      "Minimum found=9622622 is valid? True\n"
     ]
    }
   ],
   "source": [
    "def find_closest(start=0, end=367508399):\n",
    "    \"\"\"if you know the right answer is somewhere in a range\n",
    "    i remember that its very fast to just half the space and \n",
    "    check the remaining half\n",
    "    so instead of checking N, whats the maximum checks?\n",
    "    each check halves the space, so how many steps from N to 1?\n",
    "    2^x = N : start at the solution, x doublings to reach space N\n",
    "    -> x ~ log(n) -> O(log N) which is fast i guess ? :) \n",
    "    because log2(367508399) ~ 29 steps\n",
    "    .. ahh. its called *binary search*\n",
    "    \"\"\"\n",
    "    mid = (start + end) // 2\n",
    "    print(start, end, mid)\n",
    "    if start == end-1:\n",
    "        print(\"exiting\", end)\n",
    "        return end\n",
    "    if is_valid_location(mid):\n",
    "        return find_closest(start, mid)\n",
    "    else:\n",
    "        return find_closest(mid, end)\n",
    "        \n",
    "found = find_closest()\n",
    "print(f\"{found-1} is valid? {is_valid_location(found-1)}\")\n",
    "print(f\"Minimum {found=} is valid? {is_valid_location(found)}\")\n"
   ]
  }
 ],
 "metadata": {
  "kernelspec": {
   "display_name": "base",
   "language": "python",
   "name": "python3"
  },
  "language_info": {
   "codemirror_mode": {
    "name": "ipython",
    "version": 3
   },
   "file_extension": ".py",
   "mimetype": "text/x-python",
   "name": "python",
   "nbconvert_exporter": "python",
   "pygments_lexer": "ipython3",
   "version": "3.11.4"
  }
 },
 "nbformat": 4,
 "nbformat_minor": 2
}
