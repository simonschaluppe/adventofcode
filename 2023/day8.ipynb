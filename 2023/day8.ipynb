{
 "cells": [
  {
   "cell_type": "markdown",
   "metadata": {},
   "source": [
    "https://adventofcode.com/2023/day/8\n"
   ]
  },
  {
   "cell_type": "code",
   "execution_count": 74,
   "metadata": {},
   "outputs": [],
   "source": [
    "with open(\"i8.txt\") as f:\n",
    "    lines = [line.strip() for line in f.readlines()]\n",
    "    \n",
    "raw_instructions = lines[0]\n",
    "i = raw_instructions.replace(\"L\",\"0\")\n",
    "i = i.replace(\"R\",\"1\")\n",
    "instructions = [int(x) for x in i]\n",
    "raw_nodes = lines[2:]\n"
   ]
  },
  {
   "cell_type": "code",
   "execution_count": 75,
   "metadata": {},
   "outputs": [
    {
     "data": {
      "text/plain": [
       "('XHV', 'KDJ')"
      ]
     },
     "execution_count": 75,
     "metadata": {},
     "output_type": "execute_result"
    }
   ],
   "source": [
    "graph = {}\n",
    "for raw in raw_nodes:\n",
    "    name = raw[:3]\n",
    "    left = raw[7:10]\n",
    "    right = raw[12:15]\n",
    "    graph[name] = (left, right)\n",
    "    \n",
    "graph.get(\"AAA\")\n",
    "    "
   ]
  },
  {
   "cell_type": "code",
   "execution_count": 76,
   "metadata": {},
   "outputs": [
    {
     "data": {
      "text/plain": [
       "20093"
      ]
     },
     "execution_count": 76,
     "metadata": {},
     "output_type": "execute_result"
    }
   ],
   "source": [
    "steps = 0\n",
    "size = len(instructions)\n",
    "current = \"AAA\"\n",
    "while current != \"ZZZ\":\n",
    "    current = graph.get(current)[instructions[steps%size]]\n",
    "    steps += 1\n",
    "    \n",
    "\n",
    "steps "
   ]
  },
  {
   "cell_type": "markdown",
   "metadata": {},
   "source": [
    "easy to adapt but takes forever ... aborted after an hour"
   ]
  },
  {
   "cell_type": "code",
   "execution_count": 77,
   "metadata": {},
   "outputs": [
    {
     "data": {
      "text/plain": [
       "798"
      ]
     },
     "execution_count": 77,
     "metadata": {},
     "output_type": "execute_result"
    }
   ],
   "source": [
    "all_starts = [node for node in graph if node[2]==\"A\"]\n",
    "steps = 0\n",
    "size = len(instructions)\n",
    "len(graph)"
   ]
  },
  {
   "cell_type": "code",
   "execution_count": 78,
   "metadata": {},
   "outputs": [],
   "source": [
    "\n",
    "# currents = all_starts.copy()\n",
    "# while not all([node[2]==\"Z\" for node in currents]):\n",
    "#     i = instructions[steps%size]\n",
    "#     currents = [graph.get(current)[i] for current in currents]\n",
    "#     steps += 1"
   ]
  },
  {
   "cell_type": "code",
   "execution_count": 79,
   "metadata": {},
   "outputs": [
    {
     "name": "stdout",
     "output_type": "stream",
     "text": [
      "BKZ VBJ RFJ\n",
      "KJZ HFM QKR\n",
      "XNZ JLP NQP\n",
      "XLZ SLG BJV\n",
      "PQZ MRL QGF\n",
      "ZZZ KDJ XHV\n"
     ]
    }
   ],
   "source": [
    "all_stops = [node for node in graph if node[2]==\"Z\"]\n",
    "for stop in all_stops:\n",
    "    print(stop, graph.get(stop)[0], graph.get(stop)[1])"
   ]
  },
  {
   "cell_type": "markdown",
   "metadata": {},
   "source": [
    "so none of these stops are dead ends.\n",
    "- instead, they are all connected\n",
    "\n",
    "- since they branch, they cannot be rings\n",
    "- some must be dead ends? guess not\n",
    "\n",
    "- there is some concept missing.\n",
    "- since every node has two children, it must also have two parents\n",
    "\n",
    "- if theres no mistake, the steps required are very large,\n",
    "- hints at smallest common multiple or something\n",
    "\n",
    "- there must be cycles in the graph\n",
    "- meaning when following the instructions, we will revisit the node \n",
    "- at instruction i\n",
    "\n",
    "- can multiple starts coincide at the same Z?+\n",
    "\n",
    "probably should start identifying cycles if there are any\n",
    "\n",
    "for example go backwards from Z to find As and record how far down they are\n",
    "then we can gradually build a map of As and Distances\n",
    "but then still?\n",
    "\n"
   ]
  },
  {
   "cell_type": "code",
   "execution_count": 80,
   "metadata": {},
   "outputs": [
    {
     "data": {
      "text/plain": [
       "['PQZ', 'ZZZ', 'BKZ', 'XNZ', 'KJZ', 'XLZ']"
      ]
     },
     "execution_count": 80,
     "metadata": {},
     "output_type": "execute_result"
    }
   ],
   "source": [
    "steps = [0,0,0,0,0,0]\n",
    "currents = all_starts.copy()\n",
    "all_stops = []\n",
    "for j, node in enumerate(currents):\n",
    "    while not node[2]==\"Z\":\n",
    "        i = instructions[steps[j]%size]\n",
    "        node = graph.get(node)[i]\n",
    "        steps[j] += 1\n",
    "    all_stops.append(node)\n",
    "all_stops"
   ]
  },
  {
   "cell_type": "code",
   "execution_count": 81,
   "metadata": {},
   "outputs": [
    {
     "data": {
      "text/plain": [
       "[20659, 20093, 14999, 17263, 22357, 16697]"
      ]
     },
     "execution_count": 81,
     "metadata": {},
     "output_type": "execute_result"
    }
   ],
   "source": [
    "steps"
   ]
  },
  {
   "cell_type": "code",
   "execution_count": null,
   "metadata": {},
   "outputs": [
    {
     "data": {
      "text/plain": [
       "[73.0, 71.0, 53.0, 61.0, 79.0, 59.0]"
      ]
     },
     "execution_count": 82,
     "metadata": {},
     "output_type": "execute_result"
    }
   ],
   "source": [
    "laps = [step/size for step in steps]\n",
    "laps # looks like primes...  suspicious"
   ]
  },
  {
   "cell_type": "markdown",
   "metadata": {},
   "source": [
    "if we continue from these first stops, we curiously end up at exactly the **same stops** after exactly the **same steps**. \n",
    "so the solution must be the smallest common multiple.\n",
    "\n",
    "but does that mean that no matter where we start, we arrive at the stops at the same time? because why otherwise would we reach a Z after X steps from A as well as after X steps from Z itself?"
   ]
  },
  {
   "cell_type": "code",
   "execution_count": 89,
   "metadata": {},
   "outputs": [
    {
     "name": "stdout",
     "output_type": "stream",
     "text": [
      "PQZ\n",
      "ZZZ\n",
      "BKZ\n",
      "XNZ\n",
      "KJZ\n",
      "XLZ\n",
      "[20659, 20093, 14999, 17263, 22357, 16697]\n"
     ]
    }
   ],
   "source": [
    "steps = [0,0,0,0,0,0]\n",
    "currents = all_stops.copy()\n",
    "for j, node in enumerate(currents):\n",
    "    i = instructions[steps[j]%size]\n",
    "    node = graph.get(node)[i]\n",
    "    steps[j] += 1\n",
    "    while not node[2]==\"Z\":\n",
    "        i = instructions[steps[j]%size]\n",
    "        node = graph.get(node)[i]\n",
    "        steps[j] += 1\n",
    "    print(node)\n",
    "print(steps)"
   ]
  },
  {
   "cell_type": "code",
   "execution_count": 86,
   "metadata": {},
   "outputs": [
    {
     "data": {
      "text/plain": [
       "22103062509257.0"
      ]
     },
     "execution_count": 86,
     "metadata": {},
     "output_type": "execute_result"
    }
   ],
   "source": [
    "mul = 1 \n",
    "for lap in laps:\n",
    "    mul *= lap\n",
    "mul * size"
   ]
  }
 ],
 "metadata": {
  "kernelspec": {
   "display_name": "base",
   "language": "python",
   "name": "python3"
  },
  "language_info": {
   "codemirror_mode": {
    "name": "ipython",
    "version": 3
   },
   "file_extension": ".py",
   "mimetype": "text/x-python",
   "name": "python",
   "nbconvert_exporter": "python",
   "pygments_lexer": "ipython3",
   "version": "3.11.4"
  }
 },
 "nbformat": 4,
 "nbformat_minor": 2
}
