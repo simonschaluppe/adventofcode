{
 "cells": [
  {
   "cell_type": "markdown",
   "metadata": {},
   "source": [
    "https://adventofcode.com/2023/day/7 \n",
    "\n",
    "i wanna try this with an object oriented approach and custom sorting\n"
   ]
  },
  {
   "cell_type": "code",
   "execution_count": 119,
   "metadata": {},
   "outputs": [
    {
     "data": {
      "text/plain": [
       "['AT777 727',\n",
       " '7QT8A 998',\n",
       " '95925 783',\n",
       " 'JK7T3 899',\n",
       " 'JQ99A 970',\n",
       " 'Q8AJQ 630',\n",
       " '44493 399',\n",
       " 'TT47T 671',\n",
       " '88846 921',\n",
       " '7K7K7 279']"
      ]
     },
     "execution_count": 119,
     "metadata": {},
     "output_type": "execute_result"
    }
   ],
   "source": [
    "with open(\"i7.txt\") as f:\n",
    "    raw_hands = [hand.strip() for hand in f.readlines()]\n",
    "    \n",
    "raw_hands[:10]"
   ]
  },
  {
   "cell_type": "code",
   "execution_count": 120,
   "metadata": {},
   "outputs": [
    {
     "name": "stdout",
     "output_type": "stream",
     "text": [
      "[Hand(AT777, 3oaK, [12, 8, 5, 5, 5],727), Hand(7QT8A, HC, [5, 10, 8, 6, 12],998)]\n"
     ]
    },
    {
     "data": {
      "text/plain": [
       "True"
      ]
     },
     "execution_count": 120,
     "metadata": {},
     "output_type": "execute_result"
    }
   ],
   "source": [
    "from collections import Counter\n",
    "#lowest to highest\n",
    "card_rank =\"23456789TJQKA\"\n",
    "types = [\"HC\",\"OP\",\"TP\",\"3oaK\", \"FH\", \"4oaK\", \"5oaK\"]\n",
    "\n",
    "class Hand:\n",
    "    def __init__(self, handstring):\n",
    "        self.cards = handstring.split(\" \")[0]\n",
    "        self.bid = int(handstring.split(\" \")[1])\n",
    "        self.counter = Counter(self.cards)\n",
    "        self.type = self.get_type()\n",
    "        self.ranks = [card_rank.find(c) for c in self.cards]\n",
    "        \n",
    "    def get_type(self):\n",
    "        most = self.counter.most_common(1)[0][1] #first most common counter\n",
    "        if most > 3: #4oaK 5oaK\n",
    "            return most + 1 \n",
    "        secondmost = self.counter.most_common(2)[1][1] # doesnt exist for 5oak\n",
    "        if secondmost == 2: # second most common 2\n",
    "            if most == 3: # fullhouse\n",
    "                return 4\n",
    "            else: \n",
    "                return 2  # twopair\n",
    "        elif most == 3:  # threes\n",
    "            return 3\n",
    "        else: # pair and single HC\n",
    "            return most-1\n",
    "        \n",
    "    def __lt__(self, other):\n",
    "        if self.type < other.type:\n",
    "            return True\n",
    "        elif self.type > other.type:\n",
    "            return False\n",
    "        for rank, otherrank  in zip(self.ranks, other.ranks):\n",
    "            if rank < otherrank:\n",
    "                return True\n",
    "            if rank > otherrank:\n",
    "                return False\n",
    "        raise ValueError(\"Hands cannot be equal\")\n",
    "\n",
    "    def __repr__(self):\n",
    "        return f\"Hand({self.cards}, {types[self.type]}, {self.ranks},{self.bid})\"\n",
    "        \n",
    "hands = [Hand(raw_hand) for raw_hand in raw_hands]\n",
    "print(hands[:2])\n",
    "hands[1] < hands[0]"
   ]
  },
  {
   "cell_type": "code",
   "execution_count": 121,
   "metadata": {},
   "outputs": [
    {
     "data": {
      "text/plain": [
       "[Hand(237QA, HC, [0, 1, 5, 10, 12],396),\n",
       " Hand(834Q2, HC, [6, 1, 2, 10, 0],291),\n",
       " Hand(22J37, OP, [0, 0, 9, 1, 5],365),\n",
       " Hand(79484, OP, [5, 7, 2, 6, 2],146),\n",
       " Hand(QJ4JK, OP, [10, 9, 2, 9, 11],41),\n",
       " Hand(73322, TP, [5, 1, 1, 0, 0],386),\n",
       " Hand(2282J, 3oaK, [0, 0, 6, 0, 9],277),\n",
       " Hand(88846, 3oaK, [6, 6, 6, 2, 4],921),\n",
       " Hand(AA72A, 3oaK, [12, 12, 5, 0, 12],429),\n",
       " Hand(A5AA5, FH, [12, 3, 12, 12, 3],959)]"
      ]
     },
     "execution_count": 121,
     "metadata": {},
     "output_type": "execute_result"
    }
   ],
   "source": [
    "sorted_hands = sorted(hands)\n",
    "sorted_hands[::100]"
   ]
  },
  {
   "cell_type": "code",
   "execution_count": 122,
   "metadata": {},
   "outputs": [
    {
     "name": "stdout",
     "output_type": "stream",
     "text": [
      "248_113_761\n"
     ]
    }
   ],
   "source": [
    "winnings = sum((i+1)*hand.bid for i, hand in enumerate(sorted_hands))\n",
    "print(f\"{winnings:_}\")"
   ]
  },
  {
   "cell_type": "markdown",
   "metadata": {},
   "source": [
    "add jokers"
   ]
  },
  {
   "cell_type": "code",
   "execution_count": 123,
   "metadata": {},
   "outputs": [
    {
     "name": "stdout",
     "output_type": "stream",
     "text": [
      "0\n"
     ]
    },
    {
     "data": {
      "text/plain": [
       "0"
      ]
     },
     "execution_count": 123,
     "metadata": {},
     "output_type": "execute_result"
    }
   ],
   "source": [
    "hand = hands[0]\n",
    "print(hand.counter[\"J\"])\n",
    "hand.counter[\"J\"]=0\n",
    "hand.counter[\"J\"]\n"
   ]
  },
  {
   "cell_type": "code",
   "execution_count": 124,
   "metadata": {},
   "outputs": [
    {
     "name": "stdout",
     "output_type": "stream",
     "text": [
      "[Hand(AT777, 3oaK, [12, 9, 6, 6, 6],727), Hand(7QT8A, HC, [6, 10, 9, 7, 12],998)]\n"
     ]
    },
    {
     "data": {
      "text/plain": [
       "True"
      ]
     },
     "execution_count": 124,
     "metadata": {},
     "output_type": "execute_result"
    }
   ],
   "source": [
    "from collections import Counter\n",
    "\n",
    "\n",
    "card_rank =\"J23456789TQKA\"\n",
    "types = [\"HC\",\"OP\",\"TP\",\"3oaK\", \"FH\", \"4oaK\", \"5oaK\"]\n",
    "\n",
    "class Hand:\n",
    "    def __init__(self, handstring):\n",
    "        self.cards = handstring.split(\" \")[0]\n",
    "        self.bid = int(handstring.split(\" \")[1])\n",
    "        self.counter = Counter(self.cards)\n",
    "        self.type = self.get_type()\n",
    "        self.ranks = [card_rank.find(c) for c in self.cards]\n",
    "        \n",
    "    def get_type(self):\n",
    "        joker = self.counter[\"J\"]\n",
    "        self.counter[\"J\"] = 0\n",
    "        most = joker + self.counter.most_common(1)[0][1] # \n",
    "        if most > 3:\n",
    "            return most + 1\n",
    "        secondmost = self.counter.most_common(2)[1][1]\n",
    "        if secondmost == 2: # second most common 2\n",
    "            if most == 3: # fullhouse\n",
    "                return 4\n",
    "            else: \n",
    "                return 2  # twopair\n",
    "        elif most == 3: \n",
    "            return 3\n",
    "        else: \n",
    "            return most-1\n",
    "        \n",
    "    def __lt__(self, other):\n",
    "        if self.type < other.type:\n",
    "            return True\n",
    "        elif self.type > other.type:\n",
    "            return False\n",
    "        for rank, otherrank  in zip(self.ranks, other.ranks):\n",
    "            if rank < otherrank:\n",
    "                return True\n",
    "            if rank > otherrank:\n",
    "                return False\n",
    "        raise ValueError(\"Hands cannot be equal\")\n",
    "\n",
    "    def __repr__(self):\n",
    "        return f\"Hand({self.cards}, {types[self.type]}, {self.ranks},{self.bid})\"\n",
    "        \n",
    "hands = [Hand(raw_hand) for raw_hand in raw_hands]\n",
    "print(hands[:2])\n",
    "hands[1] < hands[3]"
   ]
  },
  {
   "cell_type": "code",
   "execution_count": 125,
   "metadata": {},
   "outputs": [
    {
     "data": {
      "text/plain": [
       "[Hand(237QA, HC, [1, 2, 6, 10, 12],396),\n",
       " Hand(23K64, HC, [1, 2, 11, 5, 3],974),\n",
       " Hand(24Q65, HC, [1, 3, 10, 5, 4],138),\n",
       " Hand(26479, HC, [1, 5, 3, 6, 8],371),\n",
       " Hand(273TA, HC, [1, 6, 2, 9, 12],885),\n",
       " Hand(27654, HC, [1, 6, 5, 4, 3],817),\n",
       " Hand(29384, HC, [1, 8, 2, 7, 3],599),\n",
       " Hand(2T87K, HC, [1, 9, 7, 6, 11],298),\n",
       " Hand(2KQ5T, HC, [1, 11, 10, 4, 9],430),\n",
       " Hand(2A5KT, HC, [1, 12, 4, 11, 9],746)]"
      ]
     },
     "execution_count": 125,
     "metadata": {},
     "output_type": "execute_result"
    }
   ],
   "source": [
    "sorted_hands = sorted(hands)\n",
    "sorted_hands[:10]"
   ]
  },
  {
   "cell_type": "code",
   "execution_count": 126,
   "metadata": {},
   "outputs": [
    {
     "name": "stdout",
     "output_type": "stream",
     "text": [
      "246_285_222\n"
     ]
    }
   ],
   "source": [
    "winnings = sum((i+1)*hand.bid for i, hand in enumerate(sorted_hands))\n",
    "print(f\"{winnings:_}\")"
   ]
  },
  {
   "cell_type": "markdown",
   "metadata": {},
   "source": [
    "wow, this second part was actually super easy with objects\n"
   ]
  }
 ],
 "metadata": {
  "kernelspec": {
   "display_name": "base",
   "language": "python",
   "name": "python3"
  },
  "language_info": {
   "codemirror_mode": {
    "name": "ipython",
    "version": 3
   },
   "file_extension": ".py",
   "mimetype": "text/x-python",
   "name": "python",
   "nbconvert_exporter": "python",
   "pygments_lexer": "ipython3",
   "version": "3.11.4"
  }
 },
 "nbformat": 4,
 "nbformat_minor": 2
}
