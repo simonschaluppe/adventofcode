{
 "cells": [
  {
   "cell_type": "markdown",
   "metadata": {},
   "source": [
    "## --- Day 4: Ceres Search ---\n",
    "\"Looks like the Chief's not here. Next!\" One of The Historians pulls out a device and pushes the only button on it. After a brief flash, you recognize the interior of the Ceres monitoring station!\n",
    "\n",
    "As the search for the Chief continues, a small Elf who lives on the station tugs on your shirt; she'd like to know if you could help her with her word search (your puzzle input). She only has to find one word: XMAS.\n",
    "\n",
    "This word search allows words to be horizontal, vertical, diagonal, written backwards, or even overlapping other words. It's a little unusual, though, as you don't merely need to find one instance of XMAS - you need to find all of them. Here are a few ways XMAS might appear, where irrelevant characters have been replaced with .:\n",
    "\n",
    "```\n",
    "..X...\n",
    ".SAMX.\n",
    ".A..A.\n",
    "XMAS.S\n",
    ".X....\n",
    "```\n",
    "The actual word search will be full of letters instead. For example:\n",
    "```\n",
    "MMMSXXMASM\n",
    "MSAMXMSMSA\n",
    "AMXSXMAAMM\n",
    "MSAMASMSMX\n",
    "XMASAMXAMM\n",
    "XXAMMXXAMA\n",
    "SMSMSASXSS\n",
    "SAXAMASAAA\n",
    "MAMMMXMMMM\n",
    "MXMXAXMASX\n",
    "```\n",
    "In this word search, XMAS occurs a total of 18 times; here's the same word search again, but where letters not involved in any XMAS have been replaced with .:\n",
    "```\n",
    "....XXMAS.\n",
    ".SAMXMS...\n",
    "...S..A...\n",
    "..A.A.MS.X\n",
    "XMASAMX.MM\n",
    "X.....XA.A\n",
    "S.S.S.S.SS\n",
    ".A.A.A.A.A\n",
    "..M.M.M.MM\n",
    ".X.X.XMASX\n",
    "```\n",
    "Take a look at the little Elf's word search. How many times does XMAS appear?"
   ]
  },
  {
   "cell_type": "code",
   "execution_count": 2,
   "metadata": {},
   "outputs": [
    {
     "data": {
      "text/plain": [
       "140"
      ]
     },
     "execution_count": 2,
     "metadata": {},
     "output_type": "execute_result"
    }
   ],
   "source": [
    "# dont know if thats easy with regex.\n",
    "# thinking \n",
    "# 1 produce all possible strings\n",
    " #   hori\n",
    " #   vert\n",
    " #   diag\n",
    " #   rev_diag\n",
    " #   overlap\n",
    "# 2 run re.findall and count\n",
    "\n",
    "with open(\"i4.txt\") as f:\n",
    "    lines = [line.strip() for line in f.readlines()]\n",
    "\n",
    "size = len(lines)\n",
    "size"
   ]
  },
  {
   "cell_type": "code",
   "execution_count": 3,
   "metadata": {},
   "outputs": [
    {
     "data": {
      "text/plain": [
       "['S',\n",
       " 'SS',\n",
       " 'SAM',\n",
       " 'MMXS',\n",
       " 'XXMMA',\n",
       " 'MASXAM',\n",
       " 'XMMXMSX',\n",
       " 'MSSXSAXX',\n",
       " 'XXAXAAXMM',\n",
       " 'SAMASMSXAM']"
      ]
     },
     "execution_count": 3,
     "metadata": {},
     "output_type": "execute_result"
    }
   ],
   "source": [
    "def create_diag(lines):\n",
    "    diag=[]\n",
    "    for i in range(len(lines)): # 0-139\n",
    "        diag.append(\"\".join(lines[i-j][size-j-1] for j in range(i+1)))\n",
    "    return diag\n",
    "        \n",
    "        \n",
    "create_diag(lines[:10])"
   ]
  },
  {
   "cell_type": "markdown",
   "metadata": {},
   "source": [
    "its actually enough to create this part of the diags, cause all remaining diag parts can be produced by using a rotated version of the lines.\n",
    "A rotation in turn can be thought of as a flip and transposition, so the 4 horizontal matrices are actually also the rotated versions. \n",
    "\n",
    "actually not quite, flipping the lines does not make it a 180° rotation, for that, the lines also need to be reversed.\n",
    "\n",
    "maybe just do the rotations "
   ]
  },
  {
   "cell_type": "code",
   "execution_count": 4,
   "metadata": {},
   "outputs": [],
   "source": [
    "def rotate(lines):\n",
    "    size=len(lines)\n",
    "    rotated=[[] for i in range(size)]\n",
    "    for i in range(size):\n",
    "        for j in range(len(lines)):\n",
    "            rotated[j].insert(0,lines[i][j])\n",
    "    return [\"\".join(rotated[i]) for i in range(size)]\n"
   ]
  },
  {
   "cell_type": "code",
   "execution_count": null,
   "metadata": {},
   "outputs": [],
   "source": [
    "\n",
    "all_strings = []\n",
    "for i in range(4):\n",
    "    all_strings.append(lines)\n",
    "    diags = create_diag(lines)\n",
    "    if i < 2:\n",
    "        # omit the longest diag for the first 2 rotations to not include it twice\n",
    "        all_strings.append(diags[:-1]) \n",
    "        all_strings.append([diag[::-1] for diag in diags[:-1]]) # reverse\n",
    "    else:\n",
    "        all_strings.append(diags) \n",
    "        all_strings.append([diag[::-1] for diag in diags])\n",
    "    lines = rotate(lines)\n",
    "    \n"
   ]
  },
  {
   "cell_type": "code",
   "execution_count": 6,
   "metadata": {},
   "outputs": [
    {
     "data": {
      "text/plain": [
       "2569"
      ]
     },
     "execution_count": 6,
     "metadata": {},
     "output_type": "execute_result"
    }
   ],
   "source": [
    "import re\n",
    "count = 0\n",
    "for matrix in all_strings:\n",
    "    for line in matrix:\n",
    "        #print(line)\n",
    "        count += len(re.findall(\"XMAS\", line))\n",
    "        \n",
    "count"
   ]
  },
  {
   "cell_type": "markdown",
   "metadata": {},
   "source": [
    "## --- Part Two ---\n",
    "The Elf looks quizzically at you. Did you misunderstand the assignment?\n",
    "\n",
    "Looking for the instructions, you flip over the word search to find that this isn't actually an XMAS puzzle; it's an X-MAS puzzle in which you're supposed to find two MAS in the shape of an X. One way to achieve that is like this:\n",
    "```\n",
    "M.S\n",
    ".A.\n",
    "M.S\n",
    "```\t\n",
    "Irrelevant characters have again been replaced with . in the above diagram. Within the X, each MAS can be written forwards or backwards.\n",
    "\n",
    "Here's the same example from before, but this time all of the X-MASes have been kept instead:\n",
    "```\t\n",
    ".M.S......\n",
    "..A..MSMS.\n",
    ".M.S.MAA..\n",
    "..A.ASMSM.\n",
    ".M.S.M....\n",
    "..........\n",
    "S.S.S.S.S.\n",
    ".A.A.A.A..\n",
    "M.M.M.M.M.\n",
    "..........\n",
    "```\t\n",
    "In this example, an X-MAS appears 9 times.\n",
    "\n",
    "Flip the word search from the instructions back over to the word search side and try again. How many times does an X-MAS appear?"
   ]
  },
  {
   "cell_type": "markdown",
   "metadata": {},
   "source": [
    "FAAAAACK, so now it turs to: \n",
    "- for all As\n",
    "- for half of all 8 orientations (0, 1), (1,1)\n",
    "- check for a cross, checking with the other half of missing orientations "
   ]
  },
  {
   "cell_type": "code",
   "execution_count": 28,
   "metadata": {},
   "outputs": [
    {
     "data": {
      "text/plain": [
       "['XXASMSMSXM',\n",
       " 'ASMMAAAMAM',\n",
       " 'XSAMSMMSAM',\n",
       " 'AMAMXAASMM',\n",
       " 'XSAMMMMXAX',\n",
       " 'MSASXMXSSM',\n",
       " 'ASXMASAAAX',\n",
       " 'XMXSAXMXMA',\n",
       " 'MSMMASMAMX',\n",
       " 'AAAAMXXAMX']"
      ]
     },
     "execution_count": 28,
     "metadata": {},
     "output_type": "execute_result"
    }
   ],
   "source": [
    "test = [line[:10] for line in lines[:10]]\n",
    "test"
   ]
  },
  {
   "cell_type": "code",
   "execution_count": 73,
   "metadata": {},
   "outputs": [
    {
     "data": {
      "text/plain": [
       "140"
      ]
     },
     "execution_count": 73,
     "metadata": {},
     "output_type": "execute_result"
    }
   ],
   "source": [
    "with open(\"i4.txt\") as f:\n",
    "    lines = [line.strip() for line in f.readlines()]\n",
    "\n",
    "size = len(lines)\n",
    "size"
   ]
  },
  {
   "cell_type": "code",
   "execution_count": 81,
   "metadata": {},
   "outputs": [
    {
     "name": "stdout",
     "output_type": "stream",
     "text": [
      "XSA\n",
      "XSS\n",
      "ASX\n",
      "MSA\n",
      "ASX\n",
      "SSX\n",
      "XSA\n",
      "ASM\n"
     ]
    }
   ],
   "source": [
    "\n",
    "directions = [ (1, 1), (1, 0), (1, -1),(0, -1), (-1, -1),  (-1, 0), (-1, 1), (0, 1)]\n",
    "def get_mas(spot, matrix, direction):\n",
    "    x,y = spot\n",
    "    dx, dy = direction\n",
    "    size = len(matrix)\n",
    "    mas = []\n",
    "    for i in [-1,0,1]:\n",
    "        mas.append(matrix[x+i*dx][y+i*dy])\n",
    "    return \"\".join(mas)\n",
    "\n",
    "for direc in directions:\n",
    "    print(get_mas((1,1), test, direc))\n",
    "\n"
   ]
  },
  {
   "cell_type": "code",
   "execution_count": null,
   "metadata": {},
   "outputs": [
    {
     "name": "stdout",
     "output_type": "stream",
     "text": [
      "SMS\n",
      "MAA\n",
      "MSM\n"
     ]
    },
    {
     "data": {
      "text/plain": [
       "True"
      ]
     },
     "execution_count": 90,
     "metadata": {},
     "output_type": "execute_result"
    }
   ],
   "source": [
    "def has_x(spot, matrix):\n",
    "    # spot is a tuple (i,j)\n",
    "    x,y = spot\n",
    "    if matrix[x][y] != \"A\": return False\n",
    "    for i, direction in enumerate(directions):\n",
    "        mas = get_mas(spot, matrix, direction)\n",
    "        if mas != \"MAS\": continue\n",
    "        if i%2 == 1: continue # no straight (wich would be plus, only x-s)\n",
    "        if get_mas(spot, matrix, directions[(i+2)%8]) == \"MAS\": return True\n",
    "        if get_mas(spot, matrix, directions[(i-2)%8]) == \"MAS\": return True\n",
    "    return False\n",
    "        \n",
    "i, j = 1,4\n",
    "print(lines[i-1][j-1:j+2])\n",
    "print(lines[i][j-1:j+2])\n",
    "print(lines[i+1][j-1:j+2])\n",
    "has_x((i,j), test)"
   ]
  },
  {
   "cell_type": "code",
   "execution_count": 65,
   "metadata": {},
   "outputs": [
    {
     "data": {
      "text/plain": [
       "140"
      ]
     },
     "execution_count": 65,
     "metadata": {},
     "output_type": "execute_result"
    }
   ],
   "source": [
    "size"
   ]
  },
  {
   "cell_type": "code",
   "execution_count": 92,
   "metadata": {},
   "outputs": [
    {
     "data": {
      "text/plain": [
       "1998"
      ]
     },
     "execution_count": 92,
     "metadata": {},
     "output_type": "execute_result"
    }
   ],
   "source": [
    "tcounter = 0\n",
    "for i in range(1,size-1):\n",
    "    for j in range(1,size-1):\n",
    "        spot = (i, j)\n",
    "        if has_x(spot, lines):\n",
    "            # print(spot)\n",
    "            # print(lines[i-1][j-1:j+2])\n",
    "            # print(lines[i][j-1:j+2])\n",
    "            # print(lines[i+1][j-1:j+2])\n",
    "            \n",
    "            tcounter += 1\n",
    "        \n",
    "tcounter"
   ]
  }
 ],
 "metadata": {
  "kernelspec": {
   "display_name": "base",
   "language": "python",
   "name": "python3"
  },
  "language_info": {
   "codemirror_mode": {
    "name": "ipython",
    "version": 3
   },
   "file_extension": ".py",
   "mimetype": "text/x-python",
   "name": "python",
   "nbconvert_exporter": "python",
   "pygments_lexer": "ipython3",
   "version": "3.11.4"
  }
 },
 "nbformat": 4,
 "nbformat_minor": 2
}
